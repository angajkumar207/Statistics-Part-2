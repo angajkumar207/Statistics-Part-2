{
  "nbformat": 4,
  "nbformat_minor": 0,
  "metadata": {
    "colab": {
      "provenance": []
    },
    "kernelspec": {
      "name": "python3",
      "display_name": "Python 3"
    },
    "language_info": {
      "name": "python"
    }
  },
  "cells": [
    {
      "cell_type": "markdown",
      "source": [
        "** Statistics Part 2**"
      ],
      "metadata": {
        "id": "jJC7MUUXx0Yy"
      }
    },
    {
      "cell_type": "markdown",
      "source": [
        "Q1. Write a Python program to perform a Z-test for comparing a sample mean to a known population mean and\n",
        "interpret the results."
      ],
      "metadata": {
        "id": "40Kz4rYRy6kb"
      }
    },
    {
      "cell_type": "code",
      "source": [
        "import numpy as np\n",
        "from statsmodels.stats.weightstats import ztest\n",
        "\n",
        "# Sample data\n",
        "sample_data = [12, 15, 11, 13, 14, 16, 12, 10, 13, 15]\n",
        "\n",
        "# Known population mean and standard deviation\n",
        "population_mean = 11.5\n",
        "population_std = 2.5\n",
        "\n",
        "# Perform Z-test\n",
        "z_statistic, p_value = ztest(sample_data, value=population_mean, alternative='two-sided', ddof=1)\n",
        "\n",
        "# Interpret the results\n",
        "alpha = 0.05  # Significance level\n",
        "\n",
        "print(f\"Sample Data: {sample_data}\")\n",
        "print(f\"Population Mean (Known): {population_mean}\")\n",
        "print(f\"Population Standard Deviation (Known): {population_std}\")\n",
        "print(f\"Z-statistic: {z_statistic}\")\n",
        "print(f\"P-value: {p_value}\")\n",
        "\n",
        "if p_value < alpha:\n",
        "    print(\"Interpretation: Reject the null hypothesis. There is significant evidence to suggest that the sample mean is different from the population mean.\")\n",
        "else:\n",
        "    print(\"Interpretation: Fail to reject the null hypothesis. There is not enough evidence to suggest that the sample mean is different from the population mean.\")"
      ],
      "metadata": {
        "id": "f5atFQuFy1rS"
      },
      "execution_count": null,
      "outputs": []
    },
    {
      "cell_type": "markdown",
      "source": [
        "Q2. Simulate random data to perform hypothesis testing and calculate the corresponding P-value using Python."
      ],
      "metadata": {
        "id": "wg18oFWdy5aV"
      }
    },
    {
      "cell_type": "code",
      "source": [
        "import numpy as np\n",
        "from scipy import stats\n",
        "\n",
        "# Simulate random data\n",
        "np.random.seed(42) # for reproducibility\n",
        "sample_size = 30\n",
        "population_mean = 50\n",
        "sample_data = np.random.normal(loc=population_mean, scale=10, size=sample_size)\n",
        "\n",
        "# Hypothesized population mean (under the null hypothesis)\n",
        "hypothesized_mean = 52\n",
        "\n",
        "### Perform one-sample t-test\n",
        "t_statistic, p_value = stats.ttest_1samp(sample_data, hypothesized_mean)\n",
        "\n",
        "# Print the results #\n",
        "print(f\"Simulated Sample Data (first 10): {sample_data[:10]}\")\n",
        "print(f\"Hypothesized Population Mean: {hypothesized_mean}\")\n",
        "print(f\"T-statistic: {t_statistic}\")\n",
        "print(f\"P-value: {p_value}\")\n",
        "\n",
        "## Interpret the results (optional)\n",
        "alpha = 0.05\n",
        "if p_value < alpha:\n",
        "    print(\"Interpretation: Reject the null hypothesis. There is significant evidence that the sample mean is different from the hypothesized population mean.\")\n",
        "else:\n",
        "    print(\"Interpretation: Fail to reject the null hypothesis. There is not enough evidence to suggest that the sample mean is different from the hypothesized population mean.\")"
      ],
      "metadata": {
        "id": "dmAynuayy2h9"
      },
      "execution_count": null,
      "outputs": []
    },
    {
      "cell_type": "markdown",
      "source": [
        "Q3.  Implement a one-sample Z-test using Python to compare the sample mean with the population mean."
      ],
      "metadata": {
        "id": "bOkPoI-tzqg9"
      }
    },
    {
      "cell_type": "code",
      "source": [
        "import numpy as np\n",
        "from statsmodels.stats.weightstats import ztest\n",
        "\n",
        "# Sample data\n",
        "sample_data = [12, 15, 11, 13, 14, 16, 12, 10, 13, 15]\n",
        "\n",
        "## population mean\n",
        "population_mean = 11.5\n",
        "\n",
        "population_std = 2.5\n",
        "sample_mean = np.mean(sample_data)\n",
        "sample_size = len(sample_data)\n",
        "\n",
        "# Calculate the standard error of the mean\n",
        "standard_error = population_std / np.sqrt(sample_size)\n",
        "\n",
        "## Z-statistic\n",
        "z_statistic = (sample_mean - population_mean) / standard_error\n",
        "\n",
        "p_value = 2 * (1 - stats.norm.cdf(abs(z_statistic)))\n",
        "\n",
        "\n",
        "# Print the results\n",
        "print(f\"Sample Data: {sample_data}\")\n",
        "print(f\"Population Mean (Known): {population_mean}\")\n",
        "print(f\"Population Standard Deviation (Known): {population_std}\")\n",
        "print(f\"Sample Mean: {sample_mean}\")\n",
        "print(f\"Sample Size: {sample_size}\")\n",
        "print(f\"Standard Error of the Mean: {standard_error}\")\n",
        "print(f\"Z-statistic: {z_statistic}\")\n",
        "print(f\"P-value: {p_value}\")\n",
        "\n",
        "# Interpret the results\n",
        "alpha = 0.05  # Significance level\n",
        "\n",
        "if p_value < alpha:\n",
        "    print(\"Interpretation: Reject the null hypothesis. There is significant evidence to suggest that the sample mean is different from the population mean.\")\n",
        "else:\n",
        "    print(\"Interpretation: Fail to reject the null hypothesis. There is not enough evidence to suggest that the sample mean is different from the population mean.\")\n"
      ],
      "metadata": {
        "colab": {
          "base_uri": "https://localhost:8080/"
        },
        "id": "BR31e5mSy3Fg",
        "outputId": "feb4378a-ee3d-42ef-ab32-d8ecca4b0915"
      },
      "execution_count": 2,
      "outputs": [
        {
          "output_type": "stream",
          "name": "stdout",
          "text": [
            "Sample Data: [12, 15, 11, 13, 14, 16, 12, 10, 13, 15]\n",
            "Population Mean (Known): 11.5\n",
            "Population Standard Deviation (Known): 2.5\n",
            "Sample Mean: 13.1\n",
            "Sample Size: 10\n",
            "Standard Error of the Mean: 0.7905694150420948\n",
            "Z-statistic: 2.0238577025077626\n",
            "P-value: 0.04298479507085862\n",
            "Interpretation: Reject the null hypothesis. There is significant evidence to suggest that the sample mean is different from the population mean.\n"
          ]
        }
      ]
    },
    {
      "cell_type": "markdown",
      "source": [
        "Q4.  Perform a two-tailed Z-test using Python and visualize the decision region on a plot."
      ],
      "metadata": {
        "id": "Y8lR6euv0KQo"
      }
    },
    {
      "cell_type": "code",
      "source": [
        "import numpy as np\n",
        "import matplotlib.pyplot as plt\n",
        "from scipy.stats import norm\n",
        "\n",
        "# Parameters\n",
        "mu = 100          # Population mean\n",
        "sigma = 15        # Population std dev\n",
        "x_bar = 108       # Sample mean\n",
        "n = 36            # Sample size\n",
        "alpha = 0.05      # Significance level\n",
        "\n",
        "# Z-test calculation\n",
        "z = (x_bar - mu) / (sigma / np.sqrt(n))\n",
        "print(f\"Z-score: {z:.2f}\")\n",
        "\n",
        "# Critical Z-values for two-tailed test\n",
        "z_critical = norm.ppf(1 - alpha / 2)\n",
        "\n",
        "# Visualization\n",
        "x = np.linspace(mu - 4*sigma, mu + 4*sigma, 1000)\n",
        "y = norm.pdf(x, mu, sigma / np.sqrt(n))\n",
        "\n",
        "plt.figure(figsize=(10, 5))\n",
        "plt.plot(x, y, label='Sampling Distribution')\n",
        "\n",
        "# Decision regions\n",
        "plt.fill_between(x, y, where=(x <= mu - z_critical * (sigma / np.sqrt(n))), color='red', alpha=0.5, label='Rejection Region')\n",
        "plt.fill_between(x, y, where=(x >= mu + z_critical * (sigma / np.sqrt(n))), color='red', alpha=0.5)\n",
        "\n",
        "# Sample mean line\n",
        "plt.axvline(x_bar, color='blue', linestyle='--', label=f'Sample Mean = {x_bar}')\n",
        "plt.axvline(mu, color='black', linestyle='-', label=f'Population Mean = {mu}')\n",
        "\n",
        "# Labels\n",
        "plt.title(\"Two-Tailed Z-Test Decision Region\")\n",
        "plt.xlabel(\"Sample Mean\")\n",
        "plt.ylabel(\"Probability Density\")\n",
        "plt.legend()\n",
        "plt.grid(True)\n",
        "plt.show()\n"
      ],
      "metadata": {
        "colab": {
          "base_uri": "https://localhost:8080/",
          "height": 524
        },
        "id": "ok75utXgy3J3",
        "outputId": "0058247b-f142-4ea4-ddf8-3177067ba6ea"
      },
      "execution_count": 4,
      "outputs": [
        {
          "output_type": "stream",
          "name": "stdout",
          "text": [
            "Z-score: 3.20\n"
          ]
        },
        {
          "output_type": "display_data",
          "data": {
            "text/plain": [
              "<Figure size 1000x500 with 1 Axes>"
            ],
            "image/png": "[encoded data removed]"
          },
          "metadata": {}
        }
      ]
    },
    {
      "cell_type": "markdown",
      "source": [
        "Q5. Create a Python function that calculates and visualizes Type 1 and Type 2 errors during hypothesis testing."
      ],
      "metadata": {
        "id": "bA7WA3M31XxY"
      }
    },
    {
      "cell_type": "code",
      "source": [
        "import numpy as np\n",
        "import matplotlib.pyplot as plt\n",
        "from scipy.stats import norm\n",
        "\n",
        "def visualize_type1_type2(mu0, mu1, sigma, n, alpha=0.05, tail='two-sided'):\n",
        "\n",
        "    se = sigma / np.sqrt(n)\n",
        "\n",
        "    # Critical values\n",
        "    if tail == 'two-sided':\n",
        "        z_crit = norm.ppf(1 - alpha / 2)\n",
        "        lower_crit = mu0 - z_crit * se\n",
        "        upper_crit = mu0 + z_crit * se\n",
        "    elif tail == 'left':\n",
        "        z_crit = norm.ppf(alpha)\n",
        "        lower_crit = mu0 + z_crit * se\n",
        "        upper_crit = np.inf\n",
        "    elif tail == 'right':\n",
        "        z_crit = norm.ppf(1 - alpha)\n",
        "        lower_crit = -np.inf\n",
        "        upper_crit = mu0 + z_crit * se\n",
        "    else:\n",
        "        raise ValueError(\"tail must be 'two-sided', 'left', or 'right'\")\n",
        "\n",
        "    # Range for plotting\n",
        "    x = np.linspace(mu0 - 4*se, mu1 + 4*se, 1000)\n",
        "    y0 = norm.pdf(x, mu0, se)\n",
        "    y1 = norm.pdf(x, mu1, se)\n",
        "\n",
        "    plt.figure(figsize=(10, 5))\n",
        "\n",
        "    # Plot null distribution\n",
        "    plt.plot(x, y0, label='H₀ distribution', color='blue')\n",
        "    plt.fill_between(x, y0, where=((x <= lower_crit) | (x >= upper_crit)), color='red', alpha=0.4, label='Type I Error (α)')\n",
        "\n",
        "    # Plot alternative distribution\n",
        "    plt.plot(x, y1, label='H₁ distribution', color='green')\n",
        "    if tail == 'two-sided':\n",
        "        beta_region = (x > lower_crit) & (x < upper_crit)\n",
        "    elif tail == 'left':\n",
        "        beta_region = x > lower_crit\n",
        "    elif tail == 'right':\n",
        "        beta_region = x < upper_crit\n",
        "    plt.fill_between(x, y1, where=beta_region, color='orange', alpha=0.4, label='Type II Error (β)')\n",
        "\n",
        "    # Labels and formatting\n",
        "    plt.title(\"Type I and Type II Errors in Hypothesis Testing\")\n",
        "    plt.xlabel(\"Sample Mean\")\n",
        "    plt.ylabel(\"Probability Density\")\n",
        "    plt.axvline(mu0, color='blue', linestyle='--', label='μ₀ (Null Mean)')\n",
        "    plt.axvline(mu1, color='green', linestyle='--', label='μ₁ (Alt Mean)')\n",
        "    plt.legend()\n",
        "    plt.grid(True)\n",
        "    plt.show()\n",
        "\n",
        "# Example usage\n",
        "visualize_type1_type2(mu0=100, mu1=105, sigma=15, n=30, alpha=0.05, tail='two-sided')\n"
      ],
      "metadata": {
        "id": "_sEWlhwe1dlt"
      },
      "execution_count": null,
      "outputs": []
    },
    {
      "cell_type": "markdown",
      "source": [
        "Q6. Write a Python program to perform an independent T-test and interpret the results."
      ],
      "metadata": {
        "id": "yhvIOehB1p0E"
      }
    },
    {
      "cell_type": "code",
      "source": [
        "import numpy as np\n",
        "from scipy.stats import ttest_ind\n",
        "\n",
        "# Sample data (replace with your actual data)\n",
        "group1 = np.array([85, 90, 88, 75, 95, 89, 92])\n",
        "group2 = np.array([78, 82, 84, 76, 80, 79, 81])\n",
        "\n",
        "# Perform independent two-sample t-test\n",
        "t_stat, p_value = ttest_ind(group1, group2, equal_var=True)  # Assume equal variance; set to False if not\n",
        "\n",
        "# Display results\n",
        "print(f\"T-statistic: {t_stat:.4f}\")\n",
        "print(f\"P-value: {p_value:.4f}\")\n",
        "\n",
        "# Interpretation\n",
        "alpha = 0.05\n",
        "print(\"\\nInterpretation:\")\n",
        "if p_value < alpha:\n",
        "    print(f\"Since p-value < {alpha}, we reject the null hypothesis.\")\n",
        "    print(\"There is a significant difference between the two group means.\")\n",
        "else:\n",
        "    print(f\"Since p-value >= {alpha}, we fail to reject the null hypothesis.\")\n",
        "    print(\"There is no significant difference between the two group means.\")\n"
      ],
      "metadata": {
        "colab": {
          "base_uri": "https://localhost:8080/"
        },
        "id": "0X6vUEV4y3RK",
        "outputId": "287d2310-f4b3-4b59-be02-370333b30d6e"
      },
      "execution_count": 5,
      "outputs": [
        {
          "output_type": "stream",
          "name": "stdout",
          "text": [
            "T-statistic: 2.9387\n",
            "P-value: 0.0124\n",
            "\n",
            "Interpretation:\n",
            "Since p-value < 0.05, we reject the null hypothesis.\n",
            "There is a significant difference between the two group means.\n"
          ]
        }
      ]
    },
    {
      "cell_type": "markdown",
      "source": [
        "Q7. Perform a paired sample T-test using Python and visualize the comparison results."
      ],
      "metadata": {
        "id": "0HaH3QSi13hh"
      }
    },
    {
      "cell_type": "code",
      "source": [
        "import numpy as np\n",
        "import matplotlib.pyplot as plt\n",
        "from scipy.stats import ttest_rel\n",
        "\n",
        "# Example data: Before and after scores for the same group\n",
        "before = np.array([72, 75, 78, 71, 69, 80, 74])\n",
        "after  = np.array([76, 78, 79, 75, 73, 85, 77])\n",
        "\n",
        "# Perform paired t-test\n",
        "t_stat, p_value = ttest_rel(before, after)\n",
        "\n",
        "# Print results\n",
        "print(f\"Paired T-statistic: {t_stat:.4f}\")\n",
        "print(f\"P-value: {p_value:.4f}\")\n",
        "\n",
        "# Interpretation\n",
        "alpha = 0.05\n",
        "print(\"\\nInterpretation:\")\n",
        "if p_value < alpha:\n",
        "    print(f\"Since p-value < {alpha}, we reject the null hypothesis.\")\n",
        "    print(\"There is a significant difference between the before and after scores.\")\n",
        "else:\n",
        "    print(f\"Since p-value >= {alpha}, we fail to reject the null hypothesis.\")\n",
        "    print(\"There is no significant difference between the before and after scores.\")\n",
        "\n",
        "# Visualization\n",
        "x_labels = np.arange(len(before))\n",
        "width = 0.35\n",
        "\n",
        "plt.figure(figsize=(10, 5))\n",
        "plt.bar(x_labels - width/2, before, width, label='Before', color='skyblue')\n",
        "plt.bar(x_labels + width/2, after, width, label='After', color='orange')\n",
        "\n",
        "# Add line for each pair\n",
        "for i in range(len(before)):\n",
        "    plt.plot([i - width/2, i + width/2], [before[i], after[i]], color='gray', linestyle='--', alpha=0.7)\n",
        "\n",
        "plt.title(\"Paired Sample Comparison (Before vs. After)\")\n",
        "plt.xlabel(\"Subject\")\n",
        "plt.ylabel(\"Scores\")\n",
        "plt.xticks(x_labels)\n",
        "plt.legend()\n",
        "plt.grid(axis='y', linestyle='--', alpha=0.7)\n",
        "plt.tight_layout()\n",
        "plt.show()\n"
      ],
      "metadata": {
        "id": "wwsR4mCO1dGz"
      },
      "execution_count": null,
      "outputs": []
    },
    {
      "cell_type": "markdown",
      "source": [
        "Q8.  Simulate data and perform both Z-test and T-test, then compare the results using Python."
      ],
      "metadata": {
        "id": "vpebpapm2Ern"
      }
    },
    {
      "cell_type": "code",
      "source": [
        "import numpy as np\n",
        "from scipy.stats import ttest_1samp, norm\n",
        "\n",
        "# Simulate sample data\n",
        "np.random.seed(42)  # for reproducibility\n",
        "population_mean = 100\n",
        "population_std = 15\n",
        "sample_size = 25\n",
        "\n",
        "# Generate a sample from N(μ=100, σ=15)\n",
        "sample = np.random.normal(loc=population_mean, scale=population_std, size=sample_size)\n",
        "\n",
        "# Introduce a shift to simulate a mean difference\n",
        "sample_shifted = sample + 5  # actual sample mean now ≠ population mean\n",
        "\n",
        "# --- Z-Test (known population std) ---\n",
        "sample_mean = np.mean(sample_shifted)\n",
        "standard_error = population_std / np.sqrt(sample_size)\n",
        "z_score = (sample_mean - population_mean) / standard_error\n",
        "z_p_value = 2 * (1 - norm.cdf(abs(z_score)))  # two-tailed\n",
        "\n",
        "# --- T-Test (unknown population std) ---\n",
        "t_stat, t_p_value = ttest_1samp(sample_shifted, population_mean)\n",
        "\n",
        "# --- Print Comparison ---\n",
        "print(f\"Sample Mean: {sample_mean:.2f}\")\n",
        "print(\"\\nZ-Test Results:\")\n",
        "print(f\"Z-score: {z_score:.4f}\")\n",
        "print(f\"P-value: {z_p_value:.4f}\")\n",
        "\n",
        "print(\"\\nT-Test Results:\")\n",
        "print(f\"T-statistic: {t_stat:.4f}\")\n",
        "print(f\"P-value: {t_p_value:.4f}\")\n",
        "\n",
        "# --- Interpretation ---\n",
        "alpha = 0.05\n",
        "print(\"\\nInterpretation (α = 0.05):\")\n",
        "if z_p_value < alpha:\n",
        "    print(\"- Z-test: Reject the null hypothesis (significant difference).\")\n",
        "else:\n",
        "    print(\"- Z-test: Fail to reject the null hypothesis.\")\n",
        "\n",
        "if t_p_value < alpha:\n",
        "    print(\"- T-test: Reject the null hypothesis (significant difference).\")\n",
        "else:\n",
        "    print(\"- T-test: Fail to reject the null hypothesis.\")\n"
      ],
      "metadata": {
        "id": "eos0Dasiy3U7"
      },
      "execution_count": null,
      "outputs": []
    },
    {
      "cell_type": "markdown",
      "source": [
        "Q9. Write a Python function to calculate the confidence interval for a sample mean and explain its significance.."
      ],
      "metadata": {
        "id": "oHo50plW2VCd"
      }
    },
    {
      "cell_type": "code",
      "source": [
        "import numpy as np\n",
        "from scipy.stats import t\n",
        "\n",
        "def confidence_interval(data, confidence=0.95):\n",
        "\n",
        "    data = np.array(data)\n",
        "    n = len(data)\n",
        "    mean = np.mean(data)\n",
        "    std_err = np.std(data, ddof=1) / np.sqrt(n)\n",
        "    t_crit = t.ppf((1 + confidence) / 2, df=n-1)\n",
        "    margin = t_crit * std_err\n",
        "    lower = mean - margin\n",
        "    upper = mean + margin\n",
        "    return mean, lower, upper\n",
        "\n",
        "# Example usage:\n",
        "sample_data = [22, 25, 27, 30, 24, 28, 26]\n",
        "mean, lower, upper = confidence_interval(sample_data)\n",
        "print(f\"Sample Mean: {mean:.2f}\")\n",
        "print(f\"95% Confidence Interval: ({lower:.2f}, {upper:.2f})\")\n"
      ],
      "metadata": {
        "id": "wXYK3fgC2Tty"
      },
      "execution_count": null,
      "outputs": []
    },
    {
      "cell_type": "markdown",
      "source": [
        "Q10. Write a Python program to calculate the margin of error for a given confidence level using sample data."
      ],
      "metadata": {
        "id": "wGWH-pbAyF1n"
      }
    },
    {
      "cell_type": "code",
      "source": [
        "import numpy as np\n",
        "from scipy import stats\n",
        "\n",
        "def calculate_margin_of_error(data, confidence_level=0.95):\n",
        "\n",
        "  sample_mean = np.mean(data)\n",
        "  sample_std = np.std(data, ddof=1)  # Use ddof=1 for sample standard deviation\n",
        "  sample_size = len(data)\n",
        "\n",
        "  # Calculate the critical value (t-score)\n",
        "  alpha = 1 - confidence_level\n",
        "  degrees_of_freedom = sample_size - 1\n",
        "  critical_value = stats.t.ppf(1 - alpha/2, degrees_of_freedom)\n",
        "\n",
        "  # Calculate the standard error\n",
        "  standard_error = sample_std / np.sqrt(sample_size)\n",
        "\n",
        "  # Calculate the margin of error\n",
        "  margin_of_error = critical_value * standard_error\n",
        "\n",
        "  return margin_of_error\n",
        "\n",
        "# Example usage:\n",
        "sample_data = [10, 12, 15, 11, 13, 14, 16, 12, 10, 13]\n",
        "margin_error = calculate_margin_of_error(sample_data)\n",
        "print(f\"Sample data: {sample_data}\")\n",
        "print(f\"Margin of Error (95% confidence): {margin_error}\")\n",
        "\n",
        "sample_data_2 = [25, 28, 30, 26, 29, 27, 31, 25, 28, 30, 32, 26]\n",
        "margin_error_99 = calculate_margin_of_error(sample_data_2, confidence_level=0.99)\n",
        "print(f\"\\nSample data 2: {sample_data_2}\")\n",
        "print(f\"Margin of Error (99% confidence): {margin_error_99}\")"
      ],
      "metadata": {
        "colab": {
          "base_uri": "https://localhost:8080/"
        },
        "id": "DZ5hEuppx1FN",
        "outputId": "f2c1063c-d24a-48de-82cb-ba0316da0a16"
      },
      "execution_count": 1,
      "outputs": [
        {
          "output_type": "stream",
          "name": "stdout",
          "text": [
            "Sample data: [10, 12, 15, 11, 13, 14, 16, 12, 10, 13]\n",
            "Margin of Error (95% confidence): 1.4386402649417753\n",
            "\n",
            "Sample data 2: [25, 28, 30, 26, 29, 27, 31, 25, 28, 30, 32, 26]\n",
            "Margin of Error (99% confidence): 2.1098690262631052\n"
          ]
        }
      ]
    },
    {
      "cell_type": "markdown",
      "source": [
        "Q11. Implement a Bayesian inference method using Bayes' Theorem in Python and explain the process."
      ],
      "metadata": {
        "id": "hSSU9WApyEX2"
      }
    },
    {
      "cell_type": "code",
      "metadata": {
        "id": "285f736b"
      },
      "source": [
        "def bayes_theorem(prior_A, likelihood_B_given_A, prior_not_A, likelihood_B_given_not_A):\n",
        "    numerator = likelihood_B_given_A * prior_A\n",
        "    denominator = (likelihood_B_given_A * prior_A) + (likelihood_B_given_not_A * prior_not_A)\n",
        "    posterior = numerator / denominator\n",
        "    return posterior\n",
        "\n",
        "P_A = 0.01                  # 1% of people have the disease\n",
        "P_B_given_A = 0.99          # 99% true positive rate\n",
        "P_not_A = 1 - P_A           # 99% don't have the disease\n",
        "P_B_given_not_A = 0.05      # 5% false positive rate\n",
        "\n",
        "posterior = bayes_theorem(P_A, P_B_given_A, P_not_A, P_B_given_not_A)\n",
        "print(f\"Probability of having the disease given a positive test: {posterior:.4f}\")\n"
      ],
      "execution_count": null,
      "outputs": []
    },
    {
      "cell_type": "markdown",
      "source": [
        "13. Perform a Chi-square test for independence between two categorical variables in Python."
      ],
      "metadata": {
        "id": "YqUadiUC2-0B"
      }
    },
    {
      "cell_type": "code",
      "source": [
        "import numpy as np\n",
        "import pandas as pd\n",
        "from scipy.stats import chi2_contingency\n",
        "\n",
        "# Example contingency table (can be from survey data, etc.)\n",
        "# Rows = Gender (Male, Female)\n",
        "# Columns = Preferred Device (Laptop, Tablet, Phone)\n",
        "\n",
        "data = np.array([\n",
        "    [30, 10, 20],   # Male\n",
        "    [20, 20, 30]    # Female\n",
        "])\n",
        "\n",
        "# Create a DataFrame for clarity\n",
        "df = pd.DataFrame(data, columns=[\"Laptop\", \"Tablet\", \"Phone\"], index=[\"Male\", \"Female\"])\n",
        "print(\"Contingency Table:\")\n",
        "print(df)\n",
        "\n",
        "# Perform Chi-square test\n",
        "chi2, p, dof, expected = chi2_contingency(df)\n",
        "\n",
        "# Display results\n",
        "print(f\"\\nChi-square Statistic: {chi2:.4f}\")\n",
        "print(f\"Degrees of Freedom: {dof}\")\n",
        "print(f\"P-value: {p:.4f}\")\n",
        "print(\"\\nExpected Frequencies:\")\n",
        "print(pd.DataFrame(expected, columns=df.columns, index=df.index))\n",
        "\n",
        "# Interpretation\n",
        "alpha = 0.05\n",
        "print(\"\\nInterpretation:\")\n",
        "if p < alpha:\n",
        "    print(f\"Since p-value < {alpha}, we reject the null hypothesis.\")\n",
        "    print(\"There is a significant association between gender and preferred device.\")\n",
        "else:\n",
        "    print(f\"Since p-value >= {alpha}, we fail to reject the null hypothesis.\")\n",
        "    print(\"There is no significant association between gender and preferred device.\")\n"
      ],
      "metadata": {
        "id": "9pmQc1By3Ej5"
      },
      "execution_count": null,
      "outputs": []
    },
    {
      "cell_type": "markdown",
      "source": [
        "14.  Perform a goodness-of-fit test using Python to compare the observed data to an expected distribution"
      ],
      "metadata": {
        "id": "UPSIZ9g83Ky8"
      }
    },
    {
      "cell_type": "code",
      "source": [
        "import numpy as np\n",
        "from scipy.stats import chisquare\n",
        "\n",
        "# Example: Observed counts from a die roll (fair die expected = equal counts)\n",
        "observed = np.array([18, 22, 20, 19, 21, 20])  # from rolling a die 120 times\n",
        "expected = np.array([20, 20, 20, 20, 20, 20])  # expected uniform distribution\n",
        "\n",
        "# Perform Chi-square goodness-of-fit test\n",
        "chi2_stat, p_value = chisquare(f_obs=observed, f_exp=expected)\n",
        "\n",
        "# Display results\n",
        "print(\"Observed counts:\", observed)\n",
        "print(\"Expected counts:\", expected)\n",
        "print(f\"\\nChi-square Statistic: {chi2_stat:.4f}\")\n",
        "print(f\"P-value: {p_value:.4f}\")\n",
        "\n",
        "# Interpretation\n",
        "alpha = 0.05\n",
        "print(\"\\nInterpretation:\")\n",
        "if p_value < alpha:\n",
        "    print(f\"Since p-value < {alpha}, we reject the null hypothesis.\")\n",
        "    print(\"The observed distribution significantly differs from the expected.\")\n",
        "else:\n",
        "    print(f\"Since p-value ≥ {alpha}, we fail to reject the null hypothesis.\")\n",
        "    print(\"The observed distribution does not significantly differ from the expected.\")\n"
      ],
      "metadata": {
        "id": "TMiNS0H62-jf"
      },
      "execution_count": null,
      "outputs": []
    },
    {
      "cell_type": "markdown",
      "source": [
        "15. Create a Python script to simulate and visualize the Chi-square distribution and discuss its characteristics."
      ],
      "metadata": {
        "id": "-s_u5ghV3U-0"
      }
    },
    {
      "cell_type": "code",
      "source": [
        "import numpy as np\n",
        "import matplotlib.pyplot as plt\n",
        "from scipy.stats import chi2\n",
        "\n",
        "def plot_chi_square_distribution(df_list, sample_size=10000):\n",
        "\n",
        "    x = np.linspace(0, 30, 500)\n",
        "\n",
        "    plt.figure(figsize=(10, 6))\n",
        "    for df in df_list:\n",
        "        # Simulate chi-square distributed data\n",
        "        simulated_data = np.random.chisquare(df, size=sample_size)\n",
        "\n",
        "\n",
        "        plt.plot(x, chi2.pdf(x, df), label=f'df={df}', linewidth=2)\n",
        "\n",
        "    plt.title('Chi-Square Distributions for Different Degrees of Freedom')\n",
        "    plt.xlabel('Value')\n",
        "    plt.ylabel('Probability Density')\n",
        "    plt.legend()\n",
        "    plt.grid(True)\n",
        "    plt.tight_layout()\n",
        "    plt.show()\n",
        "\n",
        "# Run the function with multiple degrees of freedom\n",
        "plot_chi_square_distribution(df_list=[1, 2, 5, 10, 20])\n"
      ],
      "metadata": {
        "colab": {
          "base_uri": "https://localhost:8080/",
          "height": 627
        },
        "id": "VUSsC1BB2j3-",
        "outputId": "18ef7d54-000d-4c71-a657-809b081ee75e"
      },
      "execution_count": 6,
      "outputs": [
        {
          "output_type": "display_data",
          "data": {
            "text/plain": [
              "<Figure size 1000x600 with 1 Axes>"
            ],
            "image/png": "[encoded data removed]"
          },
          "metadata": {}
        }
      ]
    },
    {
      "cell_type": "markdown",
      "source": [
        "16.  Implement an F-test using Python to compare the variances of two random samples."
      ],
      "metadata": {
        "id": "1OCDNhdb3zNM"
      }
    },
    {
      "cell_type": "code",
      "source": [
        "import numpy as np\n",
        "from scipy.stats import f\n",
        "\n",
        "def f_test(sample1, sample2, alpha=0.05):\n",
        "    \"\"\"\n",
        "    Performs an F-test to compare the variances of two samples.\n",
        "\n",
        "    Parameters:\n",
        "    - sample1, sample2: Arrays of sample data\n",
        "    - alpha: Significance level (default 0.05)\n",
        "\n",
        "    Returns:\n",
        "    - F-statistic, P-value, Interpretation\n",
        "    \"\"\"\n",
        "    var1 = np.var(sample1, ddof=1)\n",
        "    var2 = np.var(sample2, ddof=1)\n",
        "\n",
        "    # Determine which sample has the larger variance (F = larger/smaller)\n",
        "    if var1 > var2:\n",
        "        F = var1 / var2\n",
        "        dfn = len(sample1) - 1\n",
        "        dfd = len(sample2) - 1\n",
        "    else:\n",
        "        F = var2 / var1\n",
        "        dfn = len(sample2) - 1\n",
        "        dfd = len(sample1) - 1\n",
        "\n",
        "    # Two-tailed test: calculate p-value\n",
        "    p_value = 2 * min(f.cdf(F, dfn, dfd), 1 - f.cdf(F, dfn, dfd))\n",
        "\n",
        "    print(f\"Sample 1 Variance: {var1:.4f}\")\n",
        "    print(f\"Sample 2 Variance: {var2:.4f}\")\n",
        "    print(f\"F-statistic: {F:.4f}\")\n",
        "    print(f\"P-value: {p_value:.4f}\")\n",
        "\n",
        "    # Interpretation\n",
        "    if p_value < alpha:\n",
        "        print(f\"\\nSince p-value < {alpha}, we reject the null hypothesis.\")\n",
        "        print(\"The variances are significantly different.\")\n",
        "    else:\n",
        "        print(f\"\\nSince p-value ≥ {alpha}, we fail to reject the null hypothesis.\")\n",
        "        print(\"No significant difference in variances.\")\n",
        "\n",
        "# 🔢 Example usage:\n",
        "np.random.seed(42)\n",
        "sample1 = np.random.normal(loc=50, scale=10, size=30)  # std dev = 10\n",
        "sample2 = np.random.normal(loc=55, scale=20, size=30)  # std dev = 20\n",
        "\n",
        "f_test(sample1, sample2)\n"
      ],
      "metadata": {
        "id": "CQmjxbmu2jji"
      },
      "execution_count": null,
      "outputs": []
    },
    {
      "cell_type": "markdown",
      "source": [
        "18. Perform a one-way ANOVA test using Python to compare the means of different groups and plot the results."
      ],
      "metadata": {
        "id": "vCXcNjuq4AVc"
      }
    },
    {
      "cell_type": "code",
      "source": [
        "import numpy as np\n",
        "import matplotlib.pyplot as plt\n",
        "from scipy.stats import f_oneway\n",
        "\n",
        "# Step 1: Simulated data for three groups\n",
        "np.random.seed(42)\n",
        "group_A = np.random.normal(loc=50, scale=5, size=30)\n",
        "group_B = np.random.normal(loc=55, scale=5, size=30)\n",
        "group_C = np.random.normal(loc=60, scale=5, size=30)\n",
        "\n",
        "# Step 2: Perform one-way ANOVA\n",
        "f_stat, p_value = f_oneway(group_A, group_B, group_C)\n",
        "\n",
        "# Step 3: Print results\n",
        "print(\"One-Way ANOVA Results:\")\n",
        "print(f\"F-statistic: {f_stat:.4f}\")\n",
        "print(f\"P-value: {p_value:.4f}\")\n",
        "\n",
        "# Step 4: Interpretation\n",
        "alpha = 0.05\n",
        "print(\"\\nInterpretation:\")\n",
        "if p_value < alpha:\n",
        "    print(f\"Since p-value < {alpha}, we reject the null hypothesis.\")\n",
        "    print(\"At least one group mean is significantly different.\")\n",
        "else:\n",
        "    print(f\"Since p-value ≥ {alpha}, we fail to reject the null hypothesis.\")\n",
        "    print(\"No significant difference in group means.\")\n",
        "\n",
        "# Step 5: Visualization using boxplot\n",
        "plt.figure(figsize=(8, 6))\n",
        "plt.boxplot([group_A, group_B, group_C], labels=[\"Group A\", \"Group B\", \"Group C\"])\n",
        "plt.title(\"Group Means Comparison (One-Way ANOVA)\")\n",
        "plt.ylabel(\"Scores\")\n",
        "plt.grid(True, linestyle='--', alpha=0.7)\n",
        "plt.tight_layout()\n",
        "plt.show()\n"
      ],
      "metadata": {
        "id": "znF3IBhP4IPQ"
      },
      "execution_count": null,
      "outputs": []
    },
    {
      "cell_type": "markdown",
      "source": [
        "19. Write a Python function to check the assumptions (normality, independence, and equal variance) for ANOVA."
      ],
      "metadata": {
        "id": "MusCk1bQ4L68"
      }
    },
    {
      "cell_type": "code",
      "source": [
        "import numpy as np\n",
        "import pandas as pd\n",
        "import matplotlib.pyplot as plt\n",
        "import seaborn as sns\n",
        "from scipy.stats import shapiro, levene\n",
        "import statsmodels.api as sm\n",
        "from statsmodels.formula.api import ols\n",
        "\n",
        "def check_anova_assumptions(data: pd.DataFrame, dv: str, group: str, alpha=0.05):\n",
        "\n",
        "    print(\"=== 1. Normality (Shapiro-Wilk Test on Residuals) ===\")\n",
        "    model = ols(f\"{dv} ~ C({group})\", data=data).fit()\n",
        "    residuals = model.resid\n",
        "    stat, p = shapiro(residuals)\n",
        "    print(f\"Shapiro-Wilk Statistic: {stat:.4f}, P-value: {p:.4f}\")\n",
        "    if p > alpha:\n",
        "        print(\"✔ Residuals appear normally distributed.\")\n",
        "    else:\n",
        "        print(\"✖ Residuals are not normally distributed.\")\n",
        "\n",
        "    print(\"\\n=== 2. Equal Variances (Levene's Test) ===\")\n",
        "    grouped_data = [group_df[dv].values for name, group_df in data.groupby(group)]\n",
        "    stat, p = levene(*grouped_data)\n",
        "    print(f\"Levene Statistic: {stat:.4f}, P-value: {p:.4f}\")\n",
        "    if p > alpha:\n",
        "        print(\"✔ Variances are approximately equal.\")\n",
        "    else:\n",
        "        print(\"✖ Variances are significantly different.\")\n",
        "\n",
        "    print(\"\\n=== 3. Independence (Residual Plot) ===\")\n",
        "    plt.figure(figsize=(8, 5))\n",
        "    plt.scatter(range(len(residuals)), residuals, alpha=0.7)\n",
        "    plt.axhline(0, color='red', linestyle='--')\n",
        "    plt.title(\"Residuals vs Observation Index (Check for Independence)\")\n",
        "    plt.xlabel(\"Observation\")\n",
        "    plt.ylabel(\"Residual\")\n",
        "    plt.grid(True, linestyle='--', alpha=0.6)\n",
        "    plt.tight_layout()\n",
        "    plt.show()\n",
        "    print(\"✔ Visually inspect plot: No patterns = likely independent residuals.\")\n",
        "\n",
        "# Example usage with simulated data\n",
        "if __name__ == \"__main__\":\n",
        "    np.random.seed(42)\n",
        "    df = pd.DataFrame({\n",
        "        'group': np.repeat(['A', 'B', 'C'], 30),\n",
        "        'score': np.concatenate([\n",
        "            np.random.normal(50, 5, 30),\n",
        "            np.random.normal(55, 5, 30),\n",
        "            np.random.normal(60, 5, 30)\n",
        "        ])\n",
        "    })\n",
        "\n",
        "    check_anova_assumptions(df, dv='score', group='group')\n"
      ],
      "metadata": {
        "id": "hSseGU0Y4TRo"
      },
      "execution_count": null,
      "outputs": []
    },
    {
      "cell_type": "markdown",
      "source": [
        "20.  Perform a two-way ANOVA test using Python to study the interaction between two factors and visualize the\n",
        "results."
      ],
      "metadata": {
        "id": "fauHtbYm4fb7"
      }
    },
    {
      "cell_type": "code",
      "source": [
        "import pandas as pd\n",
        "import numpy as np\n",
        "import matplotlib.pyplot as plt\n",
        "import seaborn as sns\n",
        "import statsmodels.api as sm\n",
        "from statsmodels.formula.api import ols\n",
        "\n",
        "# Step 1: Simulate data\n",
        "np.random.seed(1)\n",
        "n = 10\n",
        "factor_A = np.repeat(['Low', 'High'], n * 2)\n",
        "factor_B = np.tile(np.repeat(['X', 'Y'], n), 2)\n",
        "\n",
        "# Create interaction effects\n",
        "data = pd.DataFrame({\n",
        "    'FactorA': factor_A,\n",
        "    'FactorB': factor_B,\n",
        "    'Score': np.random.normal(loc=50, scale=5, size=4*n)\n",
        "})\n",
        "\n",
        "# Introduce differences\n",
        "data.loc[(data.FactorA == 'High') & (data.FactorB == 'Y'), 'Score'] += 5\n",
        "data.loc[(data.FactorA == 'High') & (data.FactorB == 'X'), 'Score'] += 2\n",
        "\n",
        "# Step 2: Two-way ANOVA\n",
        "model = ols('Score ~ C(FactorA) + C(FactorB) + C(FactorA):C(FactorB)', data=data).fit()\n",
        "anova_table = sm.stats.anova_lm(model, typ=2)\n",
        "print(\"\\n=== Two-Way ANOVA Results ===\")\n",
        "print(anova_table)\n",
        "\n",
        "# Step 3: Interpretation\n",
        "print(\"\\n=== Interpretation ===\")\n",
        "for row in anova_table.index:\n",
        "    p = anova_table.loc[row, \"PR(>F)\"]\n",
        "    if p < 0.05:\n",
        "        print(f\"✔ {row} has a statistically significant effect (p = {p:.4f})\")\n",
        "    else:\n",
        "        print(f\"✖ {row} does NOT have a significant effect (p = {p:.4f})\")\n",
        "\n",
        "# Step 4: Visualization\n",
        "\n",
        "# Boxplot by groups\n",
        "plt.figure(figsize=(10, 6))\n",
        "sns.boxplot(x='FactorA', y='Score', hue='FactorB', data=data)\n",
        "plt.title(\"Boxplot: Scores by FactorA and FactorB\")\n",
        "plt.grid(True, linestyle='--', alpha=0.6)\n",
        "plt.tight_layout()\n",
        "plt.show()\n",
        "\n",
        "# Interaction plot\n",
        "from statsmodels.graphics.factorplots import interaction_plot\n",
        "\n",
        "plt.figure(figsize=(8, 5))\n",
        "interaction_plot(data['FactorA'], data['FactorB'], data['Score'],\n",
        "                 colors=['blue', 'green'], markers=['D', '^'], ms=10)\n",
        "plt.title('Interaction Plot: FactorA vs FactorB')\n",
        "plt.xlabel('FactorA')\n",
        "plt.ylabel('Mean Score')\n",
        "plt.grid(True, linestyle='--', alpha=0.6)\n",
        "plt.tight_layout()\n",
        "plt.show()\n"
      ],
      "metadata": {
        "id": "vWaS7ME64nXG"
      },
      "execution_count": null,
      "outputs": []
    },
    {
      "cell_type": "markdown",
      "source": [
        "21. Write a Python program to visualize the F-distribution and discuss its use in hypothesis testing"
      ],
      "metadata": {
        "id": "B_MYr2sE4uao"
      }
    },
    {
      "cell_type": "code",
      "source": [
        "import numpy as np\n",
        "import matplotlib.pyplot as plt\n",
        "from scipy.stats import f\n",
        "\n",
        "def plot_f_distribution(dfn_list, dfd=20, x_max=5):\n",
        "    \"\"\"\n",
        "    Plots F-distributions for different numerator degrees of freedom.\n",
        "\n",
        "    Parameters:\n",
        "    - dfn_list: list of numerator degrees of freedom\n",
        "    - dfd: denominator degrees of freedom (constant)\n",
        "    - x_max: max x-value to display\n",
        "    \"\"\"\n",
        "    x = np.linspace(0.01, x_max, 500)\n",
        "    plt.figure(figsize=(10, 6))\n",
        "\n",
        "    for dfn in dfn_list:\n",
        "        y = f.pdf(x, dfn, dfd)\n",
        "        plt.plot(x, y, label=f'df1={dfn}, df2={dfd}', linewidth=2)\n",
        "\n",
        "    plt.title('F-Distribution for Various Degrees of Freedom')\n",
        "    plt.xlabel('F-value')\n",
        "    plt.ylabel('Probability Density')\n",
        "    plt.legend()\n",
        "    plt.grid(True, linestyle='--', alpha=0.6)\n",
        "    plt.tight_layout()\n",
        "    plt.show()\n",
        "\n",
        "# Example usage\n",
        "plot_f_distribution(dfn_list=[1, 2, 5, 10], dfd=20)\n"
      ],
      "metadata": {
        "id": "i_EybrwT40-I"
      },
      "execution_count": null,
      "outputs": []
    },
    {
      "cell_type": "markdown",
      "source": [
        "22.  Perform a one-way ANOVA test in Python and visualize the results with boxplots to compare group means"
      ],
      "metadata": {
        "id": "hbeqg8am4uXI"
      }
    },
    {
      "cell_type": "code",
      "source": [
        "import numpy as np\n",
        "import pandas as pd\n",
        "from scipy.stats import f_oneway\n",
        "import matplotlib.pyplot as plt\n",
        "import seaborn as sns\n",
        "\n",
        "# Step 1: Simulate data\n",
        "np.random.seed(42)\n",
        "group_A = np.random.normal(loc=50, scale=5, size=30)\n",
        "group_B = np.random.normal(loc=55, scale=5, size=30)\n",
        "group_C = np.random.normal(loc=60, scale=5, size=30)\n",
        "\n",
        "# Combine into a DataFrame\n",
        "data = pd.DataFrame({\n",
        "    'Score': np.concatenate([group_A, group_B, group_C]),\n",
        "    'Group': ['A'] * 30 + ['B'] * 30 + ['C'] * 30\n",
        "})\n",
        "\n",
        "# Step 2: Perform one-way ANOVA\n",
        "f_stat, p_value = f_oneway(group_A, group_B, group_C)\n",
        "\n",
        "# Step 3: Print results\n",
        "print(\"=== One-Way ANOVA Results ===\")\n",
        "print(f\"F-statistic: {f_stat:.4f}\")\n",
        "print(f\"P-value: {p_value:.4f}\")\n",
        "\n",
        "# Step 4: Interpretation\n",
        "alpha = 0.05\n",
        "if p_value < alpha:\n",
        "    print(f\"✔ Since p-value < {alpha}, we reject the null hypothesis.\")\n",
        "    print(\"There is a significant difference between group means.\")\n",
        "else:\n",
        "    print(f\"✖ Since p-value ≥ {alpha}, we fail to reject the null hypothesis.\")\n",
        "    print(\"No significant difference between group means.\")\n",
        "\n",
        "# Step 5: Visualize group means with boxplots\n",
        "plt.figure(figsize=(8, 6))\n",
        "sns.boxplot(x='Group', y='Score', data=data, palette='Set2')\n",
        "plt.title('Group Means Comparison (One-Way ANOVA)')\n",
        "plt.xlabel('Group')\n",
        "plt.ylabel('Score')\n",
        "plt.grid(True, linestyle='--', alpha=0.6)\n",
        "plt.tight_layout()\n",
        "plt.show()\n"
      ],
      "metadata": {
        "colab": {
          "base_uri": "https://localhost:8080/",
          "height": 787
        },
        "id": "eWDZI_uc5CrO",
        "outputId": "7d691b9c-3ee2-41d9-f012-88dd35619631"
      },
      "execution_count": 7,
      "outputs": [
        {
          "output_type": "stream",
          "name": "stdout",
          "text": [
            "=== One-Way ANOVA Results ===\n",
            "F-statistic: 40.9756\n",
            "P-value: 0.0000\n",
            "✔ Since p-value < 0.05, we reject the null hypothesis.\n",
            "There is a significant difference between group means.\n"
          ]
        },
        {
          "output_type": "stream",
          "name": "stderr",
          "text": [
            "/tmp/ipython-input-3936836021.py:38: FutureWarning: \n",
            "\n",
            "Passing `palette` without assigning `hue` is deprecated and will be removed in v0.14.0. Assign the `x` variable to `hue` and set `legend=False` for the same effect.\n",
            "\n",
            "  sns.boxplot(x='Group', y='Score', data=data, palette='Set2')\n"
          ]
        },
        {
          "output_type": "display_data",
          "data": {
            "text/plain": [
              "<Figure size 800x600 with 1 Axes>"
            ],
            "image/png": "[encoded data removed]"
          },
          "metadata": {}
        }
      ]
    },
    {
      "cell_type": "markdown",
      "source": [
        "23. Simulate random data from a normal distribution, then perform hypothesis testing to evaluate the means."
      ],
      "metadata": {
        "id": "VI5eFdVR4uTq"
      }
    },
    {
      "cell_type": "code",
      "source": [
        "import numpy as np\n",
        "import scipy.stats as stats\n",
        "import matplotlib.pyplot as plt\n",
        "import seaborn as sns\n",
        "\n",
        "# Step 1: Simulate two normal distributions\n",
        "np.random.seed(42)\n",
        "group1 = np.random.normal(loc=50, scale=5, size=100)\n",
        "group2 = np.random.normal(loc=53, scale=5, size=100)  # different mean\n",
        "\n",
        "# Step 2: Perform two-sample (independent) t-test\n",
        "t_stat, p_value = stats.ttest_ind(group1, group2)\n",
        "\n",
        "# Step 3: Print results\n",
        "print(\"=== Two-Sample T-Test ===\")\n",
        "print(f\"T-statistic: {t_stat:.4f}\")\n",
        "print(f\"P-value: {p_value:.4f}\")\n",
        "\n",
        "# Step 4: Interpretation\n",
        "alpha = 0.05\n",
        "if p_value < alpha:\n",
        "    print(f\"✔ p-value < {alpha}: Reject null hypothesis.\")\n",
        "    print(\"Means are significantly different.\")\n",
        "else:\n",
        "    print(f\"✖ p-value ≥ {alpha}: Fail to reject null hypothesis.\")\n",
        "    print(\"No significant difference in means.\")\n",
        "\n",
        "# Step 5: Visualization\n",
        "plt.figure(figsize=(12, 5))\n",
        "\n",
        "# Histogram\n",
        "plt.subplot(1, 2, 1)\n",
        "sns.histplot(group1, kde=True, color=\"skyblue\", label=\"Group 1\")\n",
        "sns.histplot(group2, kde=True, color=\"salmon\", label=\"Group 2\")\n",
        "plt.title(\"Histogram of Group Distributions\")\n",
        "plt.xlabel(\"Value\")\n",
        "plt.ylabel(\"Frequency\")\n",
        "plt.legend()\n",
        "\n",
        "# Boxplot\n",
        "plt.subplot(1, 2, 2)\n",
        "sns.boxplot(data=[group1, group2], palette=[\"skyblue\", \"salmon\"])\n",
        "plt.xticks([0, 1], [\"Group 1\", \"Group 2\"])\n",
        "plt.title(\"Boxplot Comparison\")\n",
        "plt.ylabel(\"Value\")\n",
        "\n",
        "plt.tight_layout()\n",
        "plt.show()\n"
      ],
      "metadata": {
        "id": "7KevZO5B5TSK"
      },
      "execution_count": null,
      "outputs": []
    },
    {
      "cell_type": "markdown",
      "source": [
        "24. Perform a hypothesis test for population variance using a Chi-square distribution and interpret the results"
      ],
      "metadata": {
        "id": "e0Po9i8h4uP1"
      }
    },
    {
      "cell_type": "code",
      "source": [
        "import numpy as np\n",
        "import scipy.stats as stats\n",
        "\n",
        "# Step 1: Simulate sample data\n",
        "np.random.seed(42)\n",
        "sample = np.random.normal(loc=50, scale=5, size=30)  # population std dev = 5\n",
        "\n",
        "# Step 2: Known population variance under H0\n",
        "sigma0_squared = 25  # i.e., σ0 = 5\n",
        "\n",
        "# Step 3: Sample statistics\n",
        "n = len(sample)\n",
        "sample_variance = np.var(sample, ddof=1)\n",
        "\n",
        "# Step 4: Chi-square test statistic\n",
        "chi2_stat = (n - 1) * sample_variance / sigma0_squared\n",
        "\n",
        "# Step 5: Critical values for two-tailed test\n",
        "alpha = 0.05\n",
        "df = n - 1\n",
        "chi2_crit_low = stats.chi2.ppf(alpha / 2, df)\n",
        "chi2_crit_high = stats.chi2.ppf(1 - alpha / 2, df)\n",
        "\n",
        "# Step 6: P-value\n",
        "p_value = 2 * min(\n",
        "    stats.chi2.cdf(chi2_stat, df),\n",
        "    1 - stats.chi2.cdf(chi2_stat, df)\n",
        ")\n",
        "\n",
        "# Step 7: Results\n",
        "print(\"=== Chi-Square Variance Test ===\")\n",
        "print(f\"Sample Variance: {sample_variance:.4f}\")\n",
        "print(f\"Test Statistic (χ²): {chi2_stat:.4f}\")\n",
        "print(f\"Degrees of Freedom: {df}\")\n",
        "print(f\"Critical χ² values (α={alpha}): [{chi2_crit_low:.4f}, {chi2_crit_high:.4f}]\")\n",
        "print(f\"P-value: {p_value:.4f}\")\n",
        "\n",
        "# Step 8: Interpretation\n",
        "if chi2_stat < chi2_crit_low or chi2_stat > chi2_crit_high:\n",
        "    print(\"✔ Reject the null hypothesis: Variance is significantly different.\")\n",
        "else:\n",
        "    print(\"✖ Fail to reject the null hypothesis: No significant difference in variance.\")\n"
      ],
      "metadata": {
        "id": "fETDJ0PD5diR"
      },
      "execution_count": null,
      "outputs": []
    },
    {
      "cell_type": "markdown",
      "source": [
        "25. Write a Python script to perform a Z-test for comparing proportions between two datasets or groups."
      ],
      "metadata": {
        "id": "QNe15NST4tn3"
      }
    },
    {
      "cell_type": "code",
      "source": [
        "import numpy as np\n",
        "from statsmodels.stats.proportion import proportions_ztest\n",
        "\n",
        "# Step 1: Input data\n",
        "# Example: Group A: 45 successes out of 100; Group B: 30 successes out of 100\n",
        "successes = np.array([45, 30])  # Number of successes in each group\n",
        "n_obs = np.array([100, 100])    # Number of observations in each group\n",
        "\n",
        "# Step 2: Perform Z-test for proportions\n",
        "z_stat, p_value = proportions_ztest(count=successes, nobs=n_obs, alternative='two-sided')\n",
        "\n",
        "# Step 3: Print results\n",
        "print(\"=== Z-Test for Two Proportions ===\")\n",
        "print(f\"Z-statistic: {z_stat:.4f}\")\n",
        "print(f\"P-value: {p_value:.4f}\")\n",
        "\n",
        "# Step 4: Interpret the result\n",
        "alpha = 0.05\n",
        "if p_value < alpha:\n",
        "    print(f\"✔ Since p-value < {alpha}, we reject the null hypothesis.\")\n",
        "    print(\"There is a significant difference between the proportions.\")\n",
        "else:\n",
        "    print(f\"✖ Since p-value ≥ {alpha}, we fail to reject the null hypothesis.\")\n",
        "    print(\"No significant difference between the proportions.\")\n"
      ],
      "metadata": {
        "colab": {
          "base_uri": "https://localhost:8080/"
        },
        "id": "nt95EW935ocp",
        "outputId": "260cd4fd-306c-4b8a-c561-2a6ed60a0c19"
      },
      "execution_count": 8,
      "outputs": [
        {
          "output_type": "stream",
          "name": "stdout",
          "text": [
            "=== Z-Test for Two Proportions ===\n",
            "Z-statistic: 2.1909\n",
            "P-value: 0.0285\n",
            "✔ Since p-value < 0.05, we reject the null hypothesis.\n",
            "There is a significant difference between the proportions.\n"
          ]
        }
      ]
    },
    {
      "cell_type": "markdown",
      "source": [
        "26.  Implement an F-test for comparing the variances of two datasets, then interpret and visualize the results"
      ],
      "metadata": {
        "id": "62OK4Iue5uT_"
      }
    },
    {
      "cell_type": "code",
      "source": [
        "import numpy as np\n",
        "import scipy.stats as stats\n",
        "import matplotlib.pyplot as plt\n",
        "import seaborn as sns\n",
        "\n",
        "# Step 1: Simulate data for two groups\n",
        "np.random.seed(42)\n",
        "group1 = np.random.normal(loc=50, scale=5, size=50)   # std dev = 5\n",
        "group2 = np.random.normal(loc=50, scale=3, size=50)   # std dev = 3\n",
        "\n",
        "# Step 2: Calculate sample variances\n",
        "var1 = np.var(group1, ddof=1)\n",
        "var2 = np.var(group2, ddof=1)\n",
        "\n",
        "# Ensure F >= 1 by ordering\n",
        "if var1 > var2:\n",
        "    f_stat = var1 / var2\n",
        "    dfn, dfd = len(group1) - 1, len(group2) - 1\n",
        "else:\n",
        "    f_stat = var2 / var1\n",
        "    dfn, dfd = len(group2) - 1, len(group1) - 1\n",
        "\n",
        "# Step 3: P-value for two-tailed test\n",
        "p_value = 2 * min(\n",
        "    stats.f.cdf(f_stat, dfn, dfd),\n",
        "    1 - stats.f.cdf(f_stat, dfn, dfd)\n",
        ")\n",
        "\n",
        "# Step 4: Print results\n",
        "print(\"=== F-Test for Equality of Variances ===\")\n",
        "print(f\"Variance 1: {var1:.4f}\")\n",
        "print(f\"Variance 2: {var2:.4f}\")\n",
        "print(f\"F-statistic: {f_stat:.4f}\")\n",
        "print(f\"Degrees of freedom: df1 = {dfn}, df2 = {dfd}\")\n",
        "print(f\"P-value: {p_value:.4f}\")\n",
        "\n",
        "# Step 5: Interpretation\n",
        "alpha = 0.05\n",
        "if p_value < alpha:\n",
        "    print(f\"✔ Since p-value < {alpha}, reject the null hypothesis.\")\n",
        "    print(\"Variances are significantly different.\")\n",
        "else:\n",
        "    print(f\"✖ Since p-value ≥ {alpha}, fail to reject the null hypothesis.\")\n",
        "    print(\"No significant difference in variances.\")\n",
        "\n",
        "# Step 6: Visualization - Boxplot\n",
        "plt.figure(figsize=(12, 5))\n",
        "\n",
        "plt.subplot(1, 2, 1)\n",
        "sns.boxplot(data=[group1, group2], palette=['skyblue', 'salmon'])\n",
        "plt.xticks([0, 1], ['Group 1', 'Group 2'])\n",
        "plt.title('Boxplot of Two Groups')\n",
        "plt.ylabel('Values')\n",
        "\n",
        "# Step 7: Visualization - F-distribution\n",
        "plt.subplot(1, 2, 2)\n",
        "x = np.linspace(0.1, 5, 500)\n",
        "f_pdf = stats.f.pdf(x, dfn, dfd)\n",
        "plt.plot(x, f_pdf, label='F-distribution', color='purple')\n",
        "plt.axvline(f_stat, color='red', linestyle='--', label=f'F-stat = {f_stat:.2f}')\n",
        "plt.title('F-distribution Curve')\n",
        "plt.xlabel('F Value')\n",
        "plt.ylabel('Density')\n",
        "plt.legend()\n",
        "plt.grid(True, linestyle='--', alpha=0.6)\n",
        "\n",
        "plt.tight_layout()\n",
        "plt.show()\n"
      ],
      "metadata": {
        "colab": {
          "base_uri": "https://localhost:8080/",
          "height": 474
        },
        "id": "L7Hcq3sJ56VN",
        "outputId": "bb184ff8-ec5d-4457-b01b-92f5bb9ed59e"
      },
      "execution_count": 9,
      "outputs": [
        {
          "output_type": "stream",
          "name": "stdout",
          "text": [
            "=== F-Test for Equality of Variances ===\n",
            "Variance 1: 21.7934\n",
            "Variance 2: 6.8800\n",
            "F-statistic: 3.1677\n",
            "Degrees of freedom: df1 = 49, df2 = 49\n",
            "P-value: 0.0001\n",
            "✔ Since p-value < 0.05, reject the null hypothesis.\n",
            "Variances are significantly different.\n"
          ]
        },
        {
          "output_type": "display_data",
          "data": {
            "text/plain": [
              "<Figure size 1200x500 with 2 Axes>"
            ],
            "image/png": "[encoded data removed]"
          },
          "metadata": {}
        }
      ]
    },
    {
      "cell_type": "markdown",
      "source": [
        "27. Perform a Chi-square test for goodness of fit with simulated data and analyze the results."
      ],
      "metadata": {
        "id": "7nbMY8_X5uEY"
      }
    },
    {
      "cell_type": "code",
      "source": [
        "import numpy as np\n",
        "import scipy.stats as stats\n",
        "import matplotlib.pyplot as plt\n",
        "\n",
        "# Step 1: Simulate observed data (e.g., observed counts for 4 categories)\n",
        "np.random.seed(42)\n",
        "observed = np.random.multinomial(n=100, pvals=[0.2, 0.3, 0.3, 0.2])\n",
        "expected_proportions = np.array([0.25, 0.25, 0.25, 0.25])  # Uniform expected distribution\n",
        "expected = expected_proportions * np.sum(observed)\n",
        "\n",
        "# Step 2: Perform Chi-square goodness-of-fit test\n",
        "chi2_stat, p_value = stats.chisquare(f_obs=observed, f_exp=expected)\n",
        "\n",
        "# Step 3: Print results\n",
        "print(\"=== Chi-square Goodness-of-Fit Test ===\")\n",
        "print(f\"Observed counts: {observed}\")\n",
        "print(f\"Expected counts: {expected.astype(int)}\")\n",
        "print(f\"Chi-square statistic: {chi2_stat:.4f}\")\n",
        "print(f\"P-value: {p_value:.4f}\")\n",
        "\n",
        "# Step 4: Interpretation\n",
        "alpha = 0.05\n",
        "if p_value < alpha:\n",
        "    print(f\"✔ p-value < {alpha}: Reject the null hypothesis.\")\n",
        "    print(\"Observed data significantly differs from expected distribution.\")\n",
        "else:\n",
        "    print(f\"✖ p-value ≥ {alpha}: Fail to reject the null hypothesis.\")\n",
        "    print(\"No significant difference between observed and expected frequencies.\")\n",
        "\n",
        "# Step 5: Visualization\n",
        "categories = ['A', 'B', 'C', 'D']\n",
        "x = np.arange(len(categories))\n",
        "\n",
        "plt.bar(x - 0.2, observed, width=0.4, label='Observed', color='skyblue')\n",
        "plt.bar(x + 0.2, expected, width=0.4, label='Expected', color='orange')\n",
        "plt.xticks(x, categories)\n",
        "plt.title('Chi-square Goodness-of-Fit Test')\n",
        "plt.xlabel('Category')\n",
        "plt.ylabel('Frequency')\n",
        "plt.legend()\n",
        "plt.grid(True, axis='y', linestyle='--', alpha=0.7)\n",
        "plt.tight_layout()\n",
        "plt.show()\n"
      ],
      "metadata": {
        "colab": {
          "base_uri": "https://localhost:8080/",
          "height": 608
        },
        "id": "krkiJkmX6Czz",
        "outputId": "c461281c-8310-4674-f35d-7197c1493091"
      },
      "execution_count": 10,
      "outputs": [
        {
          "output_type": "stream",
          "name": "stdout",
          "text": [
            "=== Chi-square Goodness-of-Fit Test ===\n",
            "Observed counts: [19 32 26 23]\n",
            "Expected counts: [25 25 25 25]\n",
            "Chi-square statistic: 3.6000\n",
            "P-value: 0.3080\n",
            "✖ p-value ≥ 0.05: Fail to reject the null hypothesis.\n",
            "No significant difference between observed and expected frequencies.\n"
          ]
        },
        {
          "output_type": "display_data",
          "data": {
            "text/plain": [
              "<Figure size 640x480 with 1 Axes>"
            ],
            "image/png": "[encoded data removed]"
          },
          "metadata": {}
        }
      ]
    }
  ]
}